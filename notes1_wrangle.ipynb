{
 "cells": [
  {
   "cell_type": "markdown",
   "metadata": {
    "tags": []
   },
   "source": [
    "# Data Wrangling: Acquisition & Preparation\n",
    "\n",
    "In this lesson, we'll be acquiring and preparing some data from our SQL database.\n",
    "\n",
    "## Learning Goals\n",
    "    \n",
    "- Acquire a sample of data from SQL.\n",
    "- Identify null values, which nulls are 'deal-breakers', i.e. rows removed, which nulls should be represented by 0, and which should be replaced by a value from other methods, such as mean.\t\t\n",
    "- Identify outliers and decide what to do with them, if anything (remove, keep as-is, replace).\n",
    "- Data Structure: Aggregate as needed so that every row is an observation and each column is a variable (1 variable and not a measure). "
   ]
  },
  {
   "cell_type": "code",
   "execution_count": 1,
   "metadata": {},
   "outputs": [],
   "source": [
    "import numpy as np\n",
    "import pandas as pd\n",
    "import matplotlib.pyplot as plt\n",
    "import seaborn as sns\n",
    "import scipy.stats as stats\n",
    "\n",
    "import acq"
   ]
  },
  {
   "cell_type": "markdown",
   "metadata": {},
   "source": [
    "### Acquire & Summarize"
   ]
  },
  {
   "cell_type": "code",
   "execution_count": 2,
   "metadata": {},
   "outputs": [],
   "source": [
    "df = acq.get_mallcustomer_data()"
   ]
  },
  {
   "cell_type": "code",
   "execution_count": 3,
   "metadata": {},
   "outputs": [
    {
     "data": {
      "text/html": [
       "<div>\n",
       "<style scoped>\n",
       "    .dataframe tbody tr th:only-of-type {\n",
       "        vertical-align: middle;\n",
       "    }\n",
       "\n",
       "    .dataframe tbody tr th {\n",
       "        vertical-align: top;\n",
       "    }\n",
       "\n",
       "    .dataframe thead th {\n",
       "        text-align: right;\n",
       "    }\n",
       "</style>\n",
       "<table border=\"1\" class=\"dataframe\">\n",
       "  <thead>\n",
       "    <tr style=\"text-align: right;\">\n",
       "      <th></th>\n",
       "      <th>gender</th>\n",
       "      <th>age</th>\n",
       "      <th>annual_income</th>\n",
       "      <th>spending_score</th>\n",
       "    </tr>\n",
       "    <tr>\n",
       "      <th>customer_id</th>\n",
       "      <th></th>\n",
       "      <th></th>\n",
       "      <th></th>\n",
       "      <th></th>\n",
       "    </tr>\n",
       "  </thead>\n",
       "  <tbody>\n",
       "    <tr>\n",
       "      <th>1</th>\n",
       "      <td>Male</td>\n",
       "      <td>19</td>\n",
       "      <td>15</td>\n",
       "      <td>39</td>\n",
       "    </tr>\n",
       "    <tr>\n",
       "      <th>2</th>\n",
       "      <td>Male</td>\n",
       "      <td>21</td>\n",
       "      <td>15</td>\n",
       "      <td>81</td>\n",
       "    </tr>\n",
       "    <tr>\n",
       "      <th>3</th>\n",
       "      <td>Female</td>\n",
       "      <td>20</td>\n",
       "      <td>16</td>\n",
       "      <td>6</td>\n",
       "    </tr>\n",
       "    <tr>\n",
       "      <th>4</th>\n",
       "      <td>Female</td>\n",
       "      <td>23</td>\n",
       "      <td>16</td>\n",
       "      <td>77</td>\n",
       "    </tr>\n",
       "    <tr>\n",
       "      <th>5</th>\n",
       "      <td>Female</td>\n",
       "      <td>31</td>\n",
       "      <td>17</td>\n",
       "      <td>40</td>\n",
       "    </tr>\n",
       "  </tbody>\n",
       "</table>\n",
       "</div>"
      ],
      "text/plain": [
       "             gender  age  annual_income  spending_score\n",
       "customer_id                                            \n",
       "1              Male   19             15              39\n",
       "2              Male   21             15              81\n",
       "3            Female   20             16               6\n",
       "4            Female   23             16              77\n",
       "5            Female   31             17              40"
      ]
     },
     "execution_count": 3,
     "metadata": {},
     "output_type": "execute_result"
    }
   ],
   "source": [
    "df.head()"
   ]
  },
  {
   "cell_type": "code",
   "execution_count": 6,
   "metadata": {},
   "outputs": [
    {
     "name": "stdout",
     "output_type": "stream",
     "text": [
      "<class 'pandas.core.frame.DataFrame'>\n",
      "Int64Index: 200 entries, 1 to 200\n",
      "Data columns (total 4 columns):\n",
      " #   Column          Non-Null Count  Dtype \n",
      "---  ------          --------------  ----- \n",
      " 0   gender          200 non-null    object\n",
      " 1   age             200 non-null    int64 \n",
      " 2   annual_income   200 non-null    int64 \n",
      " 3   spending_score  200 non-null    int64 \n",
      "dtypes: int64(3), object(1)\n",
      "memory usage: 7.8+ KB\n"
     ]
    }
   ],
   "source": [
    "df.info()"
   ]
  },
  {
   "cell_type": "code",
   "execution_count": 19,
   "metadata": {},
   "outputs": [],
   "source": [
    "num_missing = df.isnull().sum(axis=1)\n",
    "prnt_miss = num_missing / df.shape[1] * 100"
   ]
  },
  {
   "cell_type": "code",
   "execution_count": 20,
   "metadata": {},
   "outputs": [
    {
     "data": {
      "text/plain": [
       "customer_id\n",
       "1      0.0\n",
       "2      0.0\n",
       "3      0.0\n",
       "4      0.0\n",
       "5      0.0\n",
       "      ... \n",
       "196    0.0\n",
       "197    0.0\n",
       "198    0.0\n",
       "199    0.0\n",
       "200    0.0\n",
       "Length: 200, dtype: float64"
      ]
     },
     "execution_count": 20,
     "metadata": {},
     "output_type": "execute_result"
    }
   ],
   "source": [
    "prnt_miss"
   ]
  },
  {
   "cell_type": "code",
   "execution_count": 21,
   "metadata": {},
   "outputs": [],
   "source": [
    "rows_missing = pd.DataFrame({'num_cols_missing': num_missing, 'perc_cols_missing': prnt_miss})"
   ]
  },
  {
   "cell_type": "code",
   "execution_count": 26,
   "metadata": {},
   "outputs": [
    {
     "data": {
      "text/html": [
       "<div>\n",
       "<style scoped>\n",
       "    .dataframe tbody tr th:only-of-type {\n",
       "        vertical-align: middle;\n",
       "    }\n",
       "\n",
       "    .dataframe tbody tr th {\n",
       "        vertical-align: top;\n",
       "    }\n",
       "\n",
       "    .dataframe thead th {\n",
       "        text-align: right;\n",
       "    }\n",
       "</style>\n",
       "<table border=\"1\" class=\"dataframe\">\n",
       "  <thead>\n",
       "    <tr style=\"text-align: right;\">\n",
       "      <th></th>\n",
       "      <th>num_cols_missing</th>\n",
       "      <th>perc_cols_missing</th>\n",
       "      <th>count</th>\n",
       "    </tr>\n",
       "  </thead>\n",
       "  <tbody>\n",
       "    <tr>\n",
       "      <th>0</th>\n",
       "      <td>0</td>\n",
       "      <td>0.0</td>\n",
       "      <td>200</td>\n",
       "    </tr>\n",
       "  </tbody>\n",
       "</table>\n",
       "</div>"
      ],
      "text/plain": [
       "   num_cols_missing  perc_cols_missing  count\n",
       "0                 0                0.0    200"
      ]
     },
     "execution_count": 26,
     "metadata": {},
     "output_type": "execute_result"
    }
   ],
   "source": [
    "rows_missing.reset_index().groupby(['num_cols_missing', 'perc_cols_missing']).count().reset_index().rename(columns={'customer_id':'count'})"
   ]
  },
  {
   "cell_type": "code",
   "execution_count": 40,
   "metadata": {},
   "outputs": [],
   "source": [
    "def nulls_by_row(df):\n",
    "    num_missing = df.isnull().sum(axis=1)\n",
    "    prnt_missing = num_missing / df.shape[1] * 100\n",
    "    rows_missing = pd.DataFrame({'num_cols_missing': num_missing, \n",
    "                                 'perc_cols_missing': prnt_missing}).\\\n",
    "    reset_index().groupby(['num_cols_missing', \n",
    "                           'perc_cols_missing']).\\\n",
    "    count().reset_index().rename(columns={'customer_id':'count'})\n",
    "        \n",
    "    return rows_missing"
   ]
  },
  {
   "cell_type": "code",
   "execution_count": 41,
   "metadata": {},
   "outputs": [
    {
     "data": {
      "text/html": [
       "<div>\n",
       "<style scoped>\n",
       "    .dataframe tbody tr th:only-of-type {\n",
       "        vertical-align: middle;\n",
       "    }\n",
       "\n",
       "    .dataframe tbody tr th {\n",
       "        vertical-align: top;\n",
       "    }\n",
       "\n",
       "    .dataframe thead th {\n",
       "        text-align: right;\n",
       "    }\n",
       "</style>\n",
       "<table border=\"1\" class=\"dataframe\">\n",
       "  <thead>\n",
       "    <tr style=\"text-align: right;\">\n",
       "      <th></th>\n",
       "      <th>num_cols_missing</th>\n",
       "      <th>perc_cols_missing</th>\n",
       "      <th>count</th>\n",
       "    </tr>\n",
       "  </thead>\n",
       "  <tbody>\n",
       "    <tr>\n",
       "      <th>0</th>\n",
       "      <td>0</td>\n",
       "      <td>0.0</td>\n",
       "      <td>200</td>\n",
       "    </tr>\n",
       "  </tbody>\n",
       "</table>\n",
       "</div>"
      ],
      "text/plain": [
       "   num_cols_missing  perc_cols_missing  count\n",
       "0                 0                0.0    200"
      ]
     },
     "execution_count": 41,
     "metadata": {},
     "output_type": "execute_result"
    }
   ],
   "source": [
    "nulls_by_row(df)"
   ]
  },
  {
   "cell_type": "code",
   "execution_count": 42,
   "metadata": {},
   "outputs": [],
   "source": [
    "def nulls_by_col(df):\n",
    "    num_missing = df.isnull().sum()\n",
    "    prnt_missing = num_missing / df.shape[0] * 100\n",
    "    cols_missing = pd.DataFrame({'num_rows_missing': num_missing,\n",
    "                                'perc_rows_missing': prnt_missing})\n",
    "    \n",
    "    return cols_missing"
   ]
  },
  {
   "cell_type": "code",
   "execution_count": 43,
   "metadata": {},
   "outputs": [
    {
     "data": {
      "text/html": [
       "<div>\n",
       "<style scoped>\n",
       "    .dataframe tbody tr th:only-of-type {\n",
       "        vertical-align: middle;\n",
       "    }\n",
       "\n",
       "    .dataframe tbody tr th {\n",
       "        vertical-align: top;\n",
       "    }\n",
       "\n",
       "    .dataframe thead th {\n",
       "        text-align: right;\n",
       "    }\n",
       "</style>\n",
       "<table border=\"1\" class=\"dataframe\">\n",
       "  <thead>\n",
       "    <tr style=\"text-align: right;\">\n",
       "      <th></th>\n",
       "      <th>num_rows_missing</th>\n",
       "      <th>perc_rows_missing</th>\n",
       "    </tr>\n",
       "  </thead>\n",
       "  <tbody>\n",
       "    <tr>\n",
       "      <th>gender</th>\n",
       "      <td>0</td>\n",
       "      <td>0.0</td>\n",
       "    </tr>\n",
       "    <tr>\n",
       "      <th>age</th>\n",
       "      <td>0</td>\n",
       "      <td>0.0</td>\n",
       "    </tr>\n",
       "    <tr>\n",
       "      <th>annual_income</th>\n",
       "      <td>0</td>\n",
       "      <td>0.0</td>\n",
       "    </tr>\n",
       "    <tr>\n",
       "      <th>spending_score</th>\n",
       "      <td>0</td>\n",
       "      <td>0.0</td>\n",
       "    </tr>\n",
       "  </tbody>\n",
       "</table>\n",
       "</div>"
      ],
      "text/plain": [
       "                num_rows_missing  perc_rows_missing\n",
       "gender                         0                0.0\n",
       "age                            0                0.0\n",
       "annual_income                  0                0.0\n",
       "spending_score                 0                0.0"
      ]
     },
     "execution_count": 43,
     "metadata": {},
     "output_type": "execute_result"
    }
   ],
   "source": [
    "nulls_by_col(df)"
   ]
  },
  {
   "cell_type": "code",
   "execution_count": 80,
   "metadata": {},
   "outputs": [],
   "source": [
    "def summarize(df):\n",
    "    print('DataFrame head: ')\n",
    "    print(df.head())\n",
    "    print()\n",
    "    print()\n",
    "    print('DataFrame info: ')\n",
    "    print(df.info())\n",
    "    print()\n",
    "    print()\n",
    "    print('DataFrame describe: ')\n",
    "    print(df.describe().T)\n",
    "    print()\n",
    "    print()\n",
    "    print('DataFrame nulls by col: ', nulls_by_col(df))\n",
    "    print()\n",
    "    print()\n",
    "    print('DataFrame nulls by row: ', nulls_by_row(df))\n",
    "    print()\n",
    "    print()\n",
    "    nums = [col for col in df.columns if df[col].dtype != 'O']\n",
    "    cats = [col for col in df.columns if col not in nums]\n",
    "    print('Value Counts: ')\n",
    "    for col in df.columns:\n",
    "        print('Column Name: '+ col)\n",
    "        if col in cats:\n",
    "            print(df[col].value_counts())\n",
    "            print()\n",
    "        else:\n",
    "            print(df[col].value_counts(bins=10, sort=False))\n",
    "            print()\n",
    "    print()\n",
    "    print()\n",
    "    print()\n",
    "    print('Report Finished')"
   ]
  },
  {
   "cell_type": "code",
   "execution_count": 81,
   "metadata": {},
   "outputs": [
    {
     "name": "stdout",
     "output_type": "stream",
     "text": [
      "DataFrame head: \n",
      "             gender  age  annual_income  spending_score\n",
      "customer_id                                            \n",
      "1              Male   19             15              39\n",
      "2              Male   21             15              81\n",
      "3            Female   20             16               6\n",
      "4            Female   23             16              77\n",
      "5            Female   31             17              40\n",
      "\n",
      "\n",
      "DataFrame info: \n",
      "<class 'pandas.core.frame.DataFrame'>\n",
      "Int64Index: 200 entries, 1 to 200\n",
      "Data columns (total 4 columns):\n",
      " #   Column          Non-Null Count  Dtype \n",
      "---  ------          --------------  ----- \n",
      " 0   gender          200 non-null    object\n",
      " 1   age             200 non-null    int64 \n",
      " 2   annual_income   200 non-null    int64 \n",
      " 3   spending_score  200 non-null    int64 \n",
      "dtypes: int64(3), object(1)\n",
      "memory usage: 15.9+ KB\n",
      "None\n",
      "\n",
      "\n",
      "DataFrame describe: \n",
      "                count   mean        std   min    25%   50%   75%    max\n",
      "age             200.0  38.85  13.969007  18.0  28.75  36.0  49.0   70.0\n",
      "annual_income   200.0  60.56  26.264721  15.0  41.50  61.5  78.0  137.0\n",
      "spending_score  200.0  50.20  25.823522   1.0  34.75  50.0  73.0   99.0\n",
      "\n",
      "\n",
      "DataFrame nulls by col:                  num_rows_missing  perc_rows_missing\n",
      "gender                         0                0.0\n",
      "age                            0                0.0\n",
      "annual_income                  0                0.0\n",
      "spending_score                 0                0.0\n",
      "\n",
      "\n",
      "DataFrame nulls by row:     num_cols_missing  perc_cols_missing  count\n",
      "0                 0                0.0    200\n",
      "\n",
      "\n",
      "Value Counts: \n",
      "Column Name: gender\n",
      "Female    112\n",
      "Male       88\n",
      "Name: gender, dtype: int64\n",
      "\n",
      "Column Name: age\n",
      "(17.947, 23.2]    31\n",
      "(23.2, 28.4]      19\n",
      "(28.4, 33.6]      34\n",
      "(33.6, 38.8]      29\n",
      "(38.8, 44.0]      18\n",
      "(44.0, 49.2]      24\n",
      "(49.2, 54.4]      15\n",
      "(54.4, 59.6]      10\n",
      "(59.6, 64.8]       6\n",
      "(64.8, 70.0]      14\n",
      "Name: age, dtype: int64\n",
      "\n",
      "Column Name: annual_income\n",
      "(14.877, 27.2]    24\n",
      "(27.2, 39.4]      22\n",
      "(39.4, 51.6]      28\n",
      "(51.6, 63.8]      38\n",
      "(63.8, 76.0]      32\n",
      "(76.0, 88.2]      34\n",
      "(88.2, 100.4]      8\n",
      "(100.4, 112.6]     6\n",
      "(112.6, 124.8]     4\n",
      "(124.8, 137.0]     4\n",
      "Name: annual_income, dtype: int64\n",
      "\n",
      "Column Name: spending_score\n",
      "(0.901, 10.8]    16\n",
      "(10.8, 20.6]     20\n",
      "(20.6, 30.4]     10\n",
      "(30.4, 40.2]     17\n",
      "(40.2, 50.0]     40\n",
      "(50.0, 59.8]     32\n",
      "(59.8, 69.6]     11\n",
      "(69.6, 79.4]     24\n",
      "(79.4, 89.2]     14\n",
      "(89.2, 99.0]     16\n",
      "Name: spending_score, dtype: int64\n",
      "\n",
      "\n",
      "\n",
      "\n",
      "Report Finished\n"
     ]
    }
   ],
   "source": [
    "summarize(df)"
   ]
  },
  {
   "cell_type": "code",
   "execution_count": 69,
   "metadata": {},
   "outputs": [
    {
     "data": {
      "image/png": "[encoded data removed]",
      "text/plain": [
       "<Figure size 432x288 with 4 Axes>"
      ]
     },
     "metadata": {
      "needs_background": "light"
     },
     "output_type": "display_data"
    }
   ],
   "source": [
    "df.hist()\n",
    "plt.tight_layout()\n",
    "plt.show()"
   ]
  },
  {
   "cell_type": "code",
   "execution_count": 74,
   "metadata": {},
   "outputs": [],
   "source": [
    "def get_upper_outliers(s, k=1.5):\n",
    "    '''\n",
    "    Take in a series and \n",
    "    '''\n",
    "    q1, q3 = s.quantile([0.25, 0.75])\n",
    "    iqr = q3 - q1\n",
    "    upper = q3 + k*iqr\n",
    "    # lower = q1 - k*iqr\n",
    "    return s.apply(lambda x: max([x - upper, 0]))"
   ]
  },
  {
   "cell_type": "code",
   "execution_count": 75,
   "metadata": {},
   "outputs": [],
   "source": [
    "def add_upper_outlier_col(df, k=1.5):\n",
    "    for col in df.select_dtypes('number'):\n",
    "        df[col + '_upper_outliers'] = get_upper_outlier(df[col])\n",
    "    return df"
   ]
  },
  {
   "cell_type": "code",
   "execution_count": 76,
   "metadata": {},
   "outputs": [],
   "source": [
    "def get_lower_outliers(s, k=1.5):\n",
    "    '''\n",
    "    Take in a series and \n",
    "    '''\n",
    "    q1, q3 = s.quantile([0.25, 0.75])\n",
    "    iqr = q3 - q1\n",
    "    # upper = q3 + k*iqr\n",
    "    lower = q1 - k*iqr\n",
    "    return s.apply(lambda x: min([x + lower, 0]))"
   ]
  },
  {
   "cell_type": "code",
   "execution_count": 78,
   "metadata": {},
   "outputs": [],
   "source": [
    "def remove_columns(df, cols_to_remove):\n",
    "    df = df.drop(columns=cols_to_remove)\n",
    "    return df"
   ]
  },
  {
   "cell_type": "code",
   "execution_count": 79,
   "metadata": {},
   "outputs": [],
   "source": [
    "def handle_missing_values(df, prop_req_cols=0.5, prop_req_rows=0.75):\n",
    "    threshold = int(round(prop_req_cols * len(df.shape[0]), 0))\n",
    "    df = df.dropna(axis=1, thresh=threshold)\n",
    "    threshold = int(round(prop_req_rows * len(df.shape[1]), 0))\n",
    "    df = df.dropna(axis=0, thresh=threshold)"
   ]
  },
  {
   "cell_type": "code",
   "execution_count": 77,
   "metadata": {},
   "outputs": [
    {
     "data": {
      "text/plain": [
       "customer_id\n",
       "1      0\n",
       "2      0\n",
       "3      0\n",
       "4      0\n",
       "5      0\n",
       "      ..\n",
       "196    0\n",
       "197    0\n",
       "198    0\n",
       "199    0\n",
       "200    0\n",
       "Name: annual_income, Length: 200, dtype: int64"
      ]
     },
     "execution_count": 77,
     "metadata": {},
     "output_type": "execute_result"
    }
   ],
   "source": [
    "get_lower_outliers(df.annual_income)"
   ]
  },
  {
   "cell_type": "code",
   "execution_count": null,
   "metadata": {},
   "outputs": [],
   "source": []
  }
 ],
 "metadata": {
  "kernelspec": {
   "display_name": "Python 3 (ipykernel)",
   "language": "python",
   "name": "python3"
  },
  "language_info": {
   "codemirror_mode": {
    "name": "ipython",
    "version": 3
   },
   "file_extension": ".py",
   "mimetype": "text/x-python",
   "name": "python",
   "nbconvert_exporter": "python",
   "pygments_lexer": "ipython3",
   "version": "3.9.12"
  },
  "toc": {
   "base_numbering": 1,
   "nav_menu": {},
   "number_sections": false,
   "sideBar": false,
   "skip_h1_title": false,
   "title_cell": "Table of Contents",
   "title_sidebar": "Contents",
   "toc_cell": false,
   "toc_position": {},
   "toc_section_display": false,
   "toc_window_display": false
  }
 },
 "nbformat": 4,
 "nbformat_minor": 4
}
