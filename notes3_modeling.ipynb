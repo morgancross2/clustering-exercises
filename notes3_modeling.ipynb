{
 "cells": [
  {
   "cell_type": "code",
   "execution_count": 1,
   "id": "3009c0bd-a496-49ca-bfa8-426763d0f84e",
   "metadata": {},
   "outputs": [],
   "source": [
    "# standard DS imports\n",
    "import pandas as pd\n",
    "import numpy as np\n",
    "\n",
    "# viz and stats\n",
    "import seaborn as sns\n",
    "import matplotlib.pyplot as plt\n",
    "from scipy import stats\n",
    "\n",
    "# scaling and modeling\n",
    "from sklearn.model_selection import train_test_split\n",
    "from sklearn.preprocessing import MinMaxScaler\n",
    "from sklearn.cluster import KMeans\n",
    "\n",
    "# local functions\n",
    "import wrangle\n",
    "import model"
   ]
  },
  {
   "cell_type": "code",
   "execution_count": 2,
   "id": "b1435fac-7b06-49d6-b82e-8d5d31ef432f",
   "metadata": {},
   "outputs": [],
   "source": [
    "df = pd.read_csv('https://gist.githubusercontent.com/ryanorsinger/cc276eea59e8295204d1f581c8da509f/raw/2388559aef7a0700eb31e7604351364b16e99653/mall_customers.csv', index_col=\"customer_id\")"
   ]
  },
  {
   "cell_type": "code",
   "execution_count": 3,
   "id": "739dfae9-34ec-4898-8b99-0dfb455dc3a1",
   "metadata": {},
   "outputs": [
    {
     "data": {
      "text/html": [
       "<div>\n",
       "<style scoped>\n",
       "    .dataframe tbody tr th:only-of-type {\n",
       "        vertical-align: middle;\n",
       "    }\n",
       "\n",
       "    .dataframe tbody tr th {\n",
       "        vertical-align: top;\n",
       "    }\n",
       "\n",
       "    .dataframe thead th {\n",
       "        text-align: right;\n",
       "    }\n",
       "</style>\n",
       "<table border=\"1\" class=\"dataframe\">\n",
       "  <thead>\n",
       "    <tr style=\"text-align: right;\">\n",
       "      <th></th>\n",
       "      <th>gender</th>\n",
       "      <th>age</th>\n",
       "      <th>annual_income</th>\n",
       "      <th>spending_score</th>\n",
       "    </tr>\n",
       "    <tr>\n",
       "      <th>customer_id</th>\n",
       "      <th></th>\n",
       "      <th></th>\n",
       "      <th></th>\n",
       "      <th></th>\n",
       "    </tr>\n",
       "  </thead>\n",
       "  <tbody>\n",
       "    <tr>\n",
       "      <th>1</th>\n",
       "      <td>Male</td>\n",
       "      <td>19</td>\n",
       "      <td>15</td>\n",
       "      <td>39</td>\n",
       "    </tr>\n",
       "    <tr>\n",
       "      <th>2</th>\n",
       "      <td>Male</td>\n",
       "      <td>21</td>\n",
       "      <td>15</td>\n",
       "      <td>81</td>\n",
       "    </tr>\n",
       "    <tr>\n",
       "      <th>3</th>\n",
       "      <td>Female</td>\n",
       "      <td>20</td>\n",
       "      <td>16</td>\n",
       "      <td>6</td>\n",
       "    </tr>\n",
       "    <tr>\n",
       "      <th>4</th>\n",
       "      <td>Female</td>\n",
       "      <td>23</td>\n",
       "      <td>16</td>\n",
       "      <td>77</td>\n",
       "    </tr>\n",
       "    <tr>\n",
       "      <th>5</th>\n",
       "      <td>Female</td>\n",
       "      <td>31</td>\n",
       "      <td>17</td>\n",
       "      <td>40</td>\n",
       "    </tr>\n",
       "  </tbody>\n",
       "</table>\n",
       "</div>"
      ],
      "text/plain": [
       "             gender  age  annual_income  spending_score\n",
       "customer_id                                            \n",
       "1              Male   19             15              39\n",
       "2              Male   21             15              81\n",
       "3            Female   20             16               6\n",
       "4            Female   23             16              77\n",
       "5            Female   31             17              40"
      ]
     },
     "execution_count": 3,
     "metadata": {},
     "output_type": "execute_result"
    }
   ],
   "source": [
    "df.head()"
   ]
  },
  {
   "cell_type": "code",
   "execution_count": 4,
   "id": "69af45ce-d232-4834-9c79-0392df06c1b3",
   "metadata": {},
   "outputs": [
    {
     "data": {
      "text/html": [
       "<div>\n",
       "<style scoped>\n",
       "    .dataframe tbody tr th:only-of-type {\n",
       "        vertical-align: middle;\n",
       "    }\n",
       "\n",
       "    .dataframe tbody tr th {\n",
       "        vertical-align: top;\n",
       "    }\n",
       "\n",
       "    .dataframe thead th {\n",
       "        text-align: right;\n",
       "    }\n",
       "</style>\n",
       "<table border=\"1\" class=\"dataframe\">\n",
       "  <thead>\n",
       "    <tr style=\"text-align: right;\">\n",
       "      <th></th>\n",
       "      <th>gender</th>\n",
       "      <th>Female</th>\n",
       "      <th>Male</th>\n",
       "    </tr>\n",
       "  </thead>\n",
       "  <tbody>\n",
       "    <tr>\n",
       "      <th rowspan=\"5\" valign=\"top\">age</th>\n",
       "      <th>min</th>\n",
       "      <td>18.000000</td>\n",
       "      <td>18.000000</td>\n",
       "    </tr>\n",
       "    <tr>\n",
       "      <th>max</th>\n",
       "      <td>68.000000</td>\n",
       "      <td>70.000000</td>\n",
       "    </tr>\n",
       "    <tr>\n",
       "      <th>median</th>\n",
       "      <td>35.000000</td>\n",
       "      <td>37.000000</td>\n",
       "    </tr>\n",
       "    <tr>\n",
       "      <th>std</th>\n",
       "      <td>12.644095</td>\n",
       "      <td>15.514812</td>\n",
       "    </tr>\n",
       "    <tr>\n",
       "      <th>mean</th>\n",
       "      <td>38.098214</td>\n",
       "      <td>39.806818</td>\n",
       "    </tr>\n",
       "    <tr>\n",
       "      <th rowspan=\"5\" valign=\"top\">annual_income</th>\n",
       "      <th>min</th>\n",
       "      <td>16.000000</td>\n",
       "      <td>15.000000</td>\n",
       "    </tr>\n",
       "    <tr>\n",
       "      <th>max</th>\n",
       "      <td>126.000000</td>\n",
       "      <td>137.000000</td>\n",
       "    </tr>\n",
       "    <tr>\n",
       "      <th>median</th>\n",
       "      <td>60.000000</td>\n",
       "      <td>62.500000</td>\n",
       "    </tr>\n",
       "    <tr>\n",
       "      <th>std</th>\n",
       "      <td>26.011952</td>\n",
       "      <td>26.638373</td>\n",
       "    </tr>\n",
       "    <tr>\n",
       "      <th>mean</th>\n",
       "      <td>59.250000</td>\n",
       "      <td>62.227273</td>\n",
       "    </tr>\n",
       "    <tr>\n",
       "      <th rowspan=\"5\" valign=\"top\">spending_score</th>\n",
       "      <th>min</th>\n",
       "      <td>5.000000</td>\n",
       "      <td>1.000000</td>\n",
       "    </tr>\n",
       "    <tr>\n",
       "      <th>max</th>\n",
       "      <td>99.000000</td>\n",
       "      <td>97.000000</td>\n",
       "    </tr>\n",
       "    <tr>\n",
       "      <th>median</th>\n",
       "      <td>50.000000</td>\n",
       "      <td>50.000000</td>\n",
       "    </tr>\n",
       "    <tr>\n",
       "      <th>std</th>\n",
       "      <td>24.114950</td>\n",
       "      <td>27.896770</td>\n",
       "    </tr>\n",
       "    <tr>\n",
       "      <th>mean</th>\n",
       "      <td>51.526786</td>\n",
       "      <td>48.511364</td>\n",
       "    </tr>\n",
       "  </tbody>\n",
       "</table>\n",
       "</div>"
      ],
      "text/plain": [
       "gender                     Female        Male\n",
       "age            min      18.000000   18.000000\n",
       "               max      68.000000   70.000000\n",
       "               median   35.000000   37.000000\n",
       "               std      12.644095   15.514812\n",
       "               mean     38.098214   39.806818\n",
       "annual_income  min      16.000000   15.000000\n",
       "               max     126.000000  137.000000\n",
       "               median   60.000000   62.500000\n",
       "               std      26.011952   26.638373\n",
       "               mean     59.250000   62.227273\n",
       "spending_score min       5.000000    1.000000\n",
       "               max      99.000000   97.000000\n",
       "               median   50.000000   50.000000\n",
       "               std      24.114950   27.896770\n",
       "               mean     51.526786   48.511364"
      ]
     },
     "execution_count": 4,
     "metadata": {},
     "output_type": "execute_result"
    }
   ],
   "source": [
    "df.groupby('gender').agg(['min', 'max', 'median', 'std', 'mean']).T"
   ]
  },
  {
   "cell_type": "code",
   "execution_count": 5,
   "id": "fb6c3cc7-fd1a-4c41-8740-137aea7c146d",
   "metadata": {},
   "outputs": [],
   "source": [
    "df = df.drop(columns='gender')"
   ]
  },
  {
   "cell_type": "code",
   "execution_count": 6,
   "id": "73ecba64-9fa8-4e93-a1af-77ee19e18371",
   "metadata": {},
   "outputs": [
    {
     "data": {
      "text/html": [
       "<div>\n",
       "<style scoped>\n",
       "    .dataframe tbody tr th:only-of-type {\n",
       "        vertical-align: middle;\n",
       "    }\n",
       "\n",
       "    .dataframe tbody tr th {\n",
       "        vertical-align: top;\n",
       "    }\n",
       "\n",
       "    .dataframe thead th {\n",
       "        text-align: right;\n",
       "    }\n",
       "</style>\n",
       "<table border=\"1\" class=\"dataframe\">\n",
       "  <thead>\n",
       "    <tr style=\"text-align: right;\">\n",
       "      <th></th>\n",
       "      <th>age</th>\n",
       "      <th>annual_income</th>\n",
       "      <th>spending_score</th>\n",
       "    </tr>\n",
       "    <tr>\n",
       "      <th>customer_id</th>\n",
       "      <th></th>\n",
       "      <th></th>\n",
       "      <th></th>\n",
       "    </tr>\n",
       "  </thead>\n",
       "  <tbody>\n",
       "    <tr>\n",
       "      <th>1</th>\n",
       "      <td>19</td>\n",
       "      <td>15</td>\n",
       "      <td>39</td>\n",
       "    </tr>\n",
       "    <tr>\n",
       "      <th>2</th>\n",
       "      <td>21</td>\n",
       "      <td>15</td>\n",
       "      <td>81</td>\n",
       "    </tr>\n",
       "    <tr>\n",
       "      <th>3</th>\n",
       "      <td>20</td>\n",
       "      <td>16</td>\n",
       "      <td>6</td>\n",
       "    </tr>\n",
       "    <tr>\n",
       "      <th>4</th>\n",
       "      <td>23</td>\n",
       "      <td>16</td>\n",
       "      <td>77</td>\n",
       "    </tr>\n",
       "    <tr>\n",
       "      <th>5</th>\n",
       "      <td>31</td>\n",
       "      <td>17</td>\n",
       "      <td>40</td>\n",
       "    </tr>\n",
       "  </tbody>\n",
       "</table>\n",
       "</div>"
      ],
      "text/plain": [
       "             age  annual_income  spending_score\n",
       "customer_id                                    \n",
       "1             19             15              39\n",
       "2             21             15              81\n",
       "3             20             16               6\n",
       "4             23             16              77\n",
       "5             31             17              40"
      ]
     },
     "execution_count": 6,
     "metadata": {},
     "output_type": "execute_result"
    }
   ],
   "source": [
    "df.head()"
   ]
  },
  {
   "cell_type": "code",
   "execution_count": 7,
   "id": "7d0a4540-1190-4361-ad3e-fbd792b8469b",
   "metadata": {},
   "outputs": [],
   "source": [
    "train = df.copy()"
   ]
  },
  {
   "cell_type": "code",
   "execution_count": 8,
   "id": "bc192ee4-f116-446b-999b-6b89a9876bcf",
   "metadata": {},
   "outputs": [
    {
     "name": "stdout",
     "output_type": "stream",
     "text": [
      "<class 'pandas.core.frame.DataFrame'>\n",
      "Int64Index: 200 entries, 1 to 200\n",
      "Data columns (total 3 columns):\n",
      " #   Column          Non-Null Count  Dtype\n",
      "---  ------          --------------  -----\n",
      " 0   age             200 non-null    int64\n",
      " 1   annual_income   200 non-null    int64\n",
      " 2   spending_score  200 non-null    int64\n",
      "dtypes: int64(3)\n",
      "memory usage: 6.2 KB\n"
     ]
    }
   ],
   "source": [
    "train.info()"
   ]
  },
  {
   "cell_type": "code",
   "execution_count": 9,
   "id": "230cc24b-9906-4938-8ce0-6d050745ef01",
   "metadata": {},
   "outputs": [],
   "source": [
    "scaler = MinMaxScaler()\n",
    "train_scaled = pd.DataFrame(scaler.fit_transform(train),\n",
    "                           index=train.index,\n",
    "                           columns = train.columns)"
   ]
  },
  {
   "cell_type": "code",
   "execution_count": 10,
   "id": "fecd22ea-01dc-44bd-98de-d87dc269e8b3",
   "metadata": {},
   "outputs": [
    {
     "data": {
      "text/plain": [
       "<seaborn.axisgrid.FacetGrid at 0x1486752e0>"
      ]
     },
     "execution_count": 10,
     "metadata": {},
     "output_type": "execute_result"
    },
    {
     "data": {
      "image/png": "[encoded data removed]",
      "text/plain": [
       "<Figure size 408.75x360 with 1 Axes>"
      ]
     },
     "metadata": {
      "needs_background": "light"
     },
     "output_type": "display_data"
    }
   ],
   "source": [
    "sns.relplot(data=train, x='annual_income', y='spending_score', hue='age').set(title='income vs spending highlighted with age')"
   ]
  },
  {
   "cell_type": "code",
   "execution_count": 11,
   "id": "6e278d67-9784-429c-a71b-5caab85d9e5f",
   "metadata": {},
   "outputs": [],
   "source": [
    "km = KMeans(n_clusters=5)\n",
    "km.fit(train_scaled)\n",
    "train['cluster'] = km.predict(train_scaled)"
   ]
  },
  {
   "cell_type": "code",
   "execution_count": 12,
   "id": "0ee17ed2-283e-482c-ac80-be305b5d14e8",
   "metadata": {},
   "outputs": [
    {
     "data": {
      "text/plain": [
       "2    58\n",
       "1    49\n",
       "0    40\n",
       "3    30\n",
       "4    23\n",
       "Name: cluster, dtype: int64"
      ]
     },
     "execution_count": 12,
     "metadata": {},
     "output_type": "execute_result"
    }
   ],
   "source": [
    "train.cluster.value_counts()"
   ]
  },
  {
   "cell_type": "code",
   "execution_count": 13,
   "id": "4e4b9d3c-8c2d-4047-9dc0-24e02752a0ac",
   "metadata": {},
   "outputs": [
    {
     "data": {
      "text/plain": [
       "10.30396489253412"
      ]
     },
     "execution_count": 13,
     "metadata": {},
     "output_type": "execute_result"
    }
   ],
   "source": [
    "km.inertia_"
   ]
  },
  {
   "cell_type": "code",
   "execution_count": 14,
   "id": "6eb17dbd-7965-4cbc-968e-29b84953e00d",
   "metadata": {},
   "outputs": [
    {
     "data": {
      "text/plain": [
       "8"
      ]
     },
     "execution_count": 14,
     "metadata": {},
     "output_type": "execute_result"
    }
   ],
   "source": [
    "km.n_iter_"
   ]
  },
  {
   "cell_type": "code",
   "execution_count": 15,
   "id": "c5b54b3b-1df4-4b6a-8de4-f68530d6b8bd",
   "metadata": {},
   "outputs": [
    {
     "data": {
      "text/plain": [
       "{2: 22.56077488260975,\n",
       " 3: 17.370109472896697,\n",
       " 4: 12.650287676229912,\n",
       " 5: 10.30396489253412,\n",
       " 6: 8.385099035848986,\n",
       " 7: 7.194627451966417,\n",
       " 8: 6.248886770318165,\n",
       " 9: 5.4970081248101526,\n",
       " 10: 5.01636210036839,\n",
       " 11: 4.552314677723878,\n",
       " 12: 4.215650721648608,\n",
       " 13: 3.9108450381023854,\n",
       " 14: 3.7257761836059764,\n",
       " 15: 3.548065360538315}"
      ]
     },
     "execution_count": 15,
     "metadata": {},
     "output_type": "execute_result"
    }
   ],
   "source": [
    "{k: KMeans(k).fit(train_scaled).inertia_ for k in range(2,16)}"
   ]
  },
  {
   "cell_type": "code",
   "execution_count": 16,
   "id": "090eb16c-4e80-446b-8198-8204b556049f",
   "metadata": {},
   "outputs": [],
   "source": [
    "n = 1\n",
    "points = {}\n",
    "while n < 15:\n",
    "    km = KMeans(n_clusters = n)\n",
    "    km.fit(train_scaled)\n",
    "    points[f'km_{n}'] = {'centroids':n, 'inertia': km.inertia_}\n",
    "    n+=1"
   ]
  },
  {
   "cell_type": "code",
   "execution_count": 17,
   "id": "2347b807-1e13-46b8-9f83-9826130e6c34",
   "metadata": {},
   "outputs": [
    {
     "data": {
      "text/html": [
       "<div>\n",
       "<style scoped>\n",
       "    .dataframe tbody tr th:only-of-type {\n",
       "        vertical-align: middle;\n",
       "    }\n",
       "\n",
       "    .dataframe tbody tr th {\n",
       "        vertical-align: top;\n",
       "    }\n",
       "\n",
       "    .dataframe thead th {\n",
       "        text-align: right;\n",
       "    }\n",
       "</style>\n",
       "<table border=\"1\" class=\"dataframe\">\n",
       "  <thead>\n",
       "    <tr style=\"text-align: right;\">\n",
       "      <th></th>\n",
       "      <th>centroids</th>\n",
       "      <th>inertia</th>\n",
       "    </tr>\n",
       "  </thead>\n",
       "  <tbody>\n",
       "    <tr>\n",
       "      <th>km_1</th>\n",
       "      <td>1.0</td>\n",
       "      <td>37.401482</td>\n",
       "    </tr>\n",
       "    <tr>\n",
       "      <th>km_2</th>\n",
       "      <td>2.0</td>\n",
       "      <td>22.560775</td>\n",
       "    </tr>\n",
       "    <tr>\n",
       "      <th>km_3</th>\n",
       "      <td>3.0</td>\n",
       "      <td>17.371946</td>\n",
       "    </tr>\n",
       "    <tr>\n",
       "      <th>km_4</th>\n",
       "      <td>4.0</td>\n",
       "      <td>12.650288</td>\n",
       "    </tr>\n",
       "    <tr>\n",
       "      <th>km_5</th>\n",
       "      <td>5.0</td>\n",
       "      <td>10.303965</td>\n",
       "    </tr>\n",
       "    <tr>\n",
       "      <th>km_6</th>\n",
       "      <td>6.0</td>\n",
       "      <td>8.399423</td>\n",
       "    </tr>\n",
       "    <tr>\n",
       "      <th>km_7</th>\n",
       "      <td>7.0</td>\n",
       "      <td>7.171965</td>\n",
       "    </tr>\n",
       "    <tr>\n",
       "      <th>km_8</th>\n",
       "      <td>8.0</td>\n",
       "      <td>6.289526</td>\n",
       "    </tr>\n",
       "    <tr>\n",
       "      <th>km_9</th>\n",
       "      <td>9.0</td>\n",
       "      <td>5.496248</td>\n",
       "    </tr>\n",
       "    <tr>\n",
       "      <th>km_10</th>\n",
       "      <td>10.0</td>\n",
       "      <td>5.031642</td>\n",
       "    </tr>\n",
       "    <tr>\n",
       "      <th>km_11</th>\n",
       "      <td>11.0</td>\n",
       "      <td>4.683171</td>\n",
       "    </tr>\n",
       "    <tr>\n",
       "      <th>km_12</th>\n",
       "      <td>12.0</td>\n",
       "      <td>4.278662</td>\n",
       "    </tr>\n",
       "    <tr>\n",
       "      <th>km_13</th>\n",
       "      <td>13.0</td>\n",
       "      <td>4.022424</td>\n",
       "    </tr>\n",
       "    <tr>\n",
       "      <th>km_14</th>\n",
       "      <td>14.0</td>\n",
       "      <td>3.672258</td>\n",
       "    </tr>\n",
       "  </tbody>\n",
       "</table>\n",
       "</div>"
      ],
      "text/plain": [
       "       centroids    inertia\n",
       "km_1         1.0  37.401482\n",
       "km_2         2.0  22.560775\n",
       "km_3         3.0  17.371946\n",
       "km_4         4.0  12.650288\n",
       "km_5         5.0  10.303965\n",
       "km_6         6.0   8.399423\n",
       "km_7         7.0   7.171965\n",
       "km_8         8.0   6.289526\n",
       "km_9         9.0   5.496248\n",
       "km_10       10.0   5.031642\n",
       "km_11       11.0   4.683171\n",
       "km_12       12.0   4.278662\n",
       "km_13       13.0   4.022424\n",
       "km_14       14.0   3.672258"
      ]
     },
     "execution_count": 17,
     "metadata": {},
     "output_type": "execute_result"
    }
   ],
   "source": [
    "models = pd.DataFrame(points).T\n",
    "models"
   ]
  },
  {
   "cell_type": "code",
   "execution_count": 25,
   "id": "9f70d3ac-ab5f-423f-84ae-3b30058b53e7",
   "metadata": {},
   "outputs": [
    {
     "data": {
      "image/png": "[encoded data removed]",
      "text/plain": [
       "<Figure size 360x360 with 1 Axes>"
      ]
     },
     "metadata": {
      "needs_background": "light"
     },
     "output_type": "display_data"
    }
   ],
   "source": [
    "sns.relplot(data=models, x='centroids', y='inertia')\n",
    "x = range(0,40,1)\n",
    "y = range(0,40,1)\n",
    "plt.plot(x,y)\n",
    "plt.xlim(0)\n",
    "plt.ylim(0)\n",
    "plt.grid()\n",
    "plt.show()"
   ]
  },
  {
   "cell_type": "code",
   "execution_count": 27,
   "id": "dc5d144d-6916-485c-8d28-60391866343c",
   "metadata": {},
   "outputs": [
    {
     "data": {
      "image/png": "[encoded data removed]",
      "text/plain": [
       "<Figure size 360x360 with 1 Axes>"
      ]
     },
     "metadata": {
      "needs_background": "light"
     },
     "output_type": "display_data"
    }
   ],
   "source": [
    "model.run_kmeans(train_scaled, max_centroids=9)"
   ]
  },
  {
   "cell_type": "code",
   "execution_count": null,
   "id": "9d5feb8a-a951-4d6d-9d70-e9a59974df44",
   "metadata": {},
   "outputs": [],
   "source": []
  }
 ],
 "metadata": {
  "kernelspec": {
   "display_name": "Python 3 (ipykernel)",
   "language": "python",
   "name": "python3"
  },
  "language_info": {
   "codemirror_mode": {
    "name": "ipython",
    "version": 3
   },
   "file_extension": ".py",
   "mimetype": "text/x-python",
   "name": "python",
   "nbconvert_exporter": "python",
   "pygments_lexer": "ipython3",
   "version": "3.9.12"
  }
 },
 "nbformat": 4,
 "nbformat_minor": 5
}
